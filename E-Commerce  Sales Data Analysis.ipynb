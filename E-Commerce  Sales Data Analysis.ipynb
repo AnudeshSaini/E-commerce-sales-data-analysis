{
 "cells": [
  {
   "cell_type": "code",
   "execution_count": 1,
   "id": "650af2df",
   "metadata": {},
   "outputs": [],
   "source": [
    "# Import basic libararies which are helpful in  data cleaning , manipulation & visualization .\n",
    "import numpy as np\n",
    "import pandas as pd\n",
    "import matplotlib\n",
    "import matplotlib.pyplot as plt\n",
    "%matplotlib inline\n",
    "import seaborn as sns\n",
    "matplotlib.rcParams[\"figure.figsize\"] = (18,8)\n",
    "import klib"
   ]
  },
  {
   "cell_type": "code",
   "execution_count": 2,
   "id": "8c89712a",
   "metadata": {},
   "outputs": [],
   "source": [
    "# Import all three datasets \n",
    "detail = pd.read_csv(\"Sales Details.csv\")\n",
    "order = pd.read_csv(\"Sales Orders.csv\")\n",
    "target = pd.read_csv(\"Sales Targets.csv\")\n"
   ]
  },
  {
   "cell_type": "code",
   "execution_count": 3,
   "id": "0d0fc1fa",
   "metadata": {},
   "outputs": [
    {
     "data": {
      "text/html": [
       "<div>\n",
       "<style scoped>\n",
       "    .dataframe tbody tr th:only-of-type {\n",
       "        vertical-align: middle;\n",
       "    }\n",
       "\n",
       "    .dataframe tbody tr th {\n",
       "        vertical-align: top;\n",
       "    }\n",
       "\n",
       "    .dataframe thead th {\n",
       "        text-align: right;\n",
       "    }\n",
       "</style>\n",
       "<table border=\"1\" class=\"dataframe\">\n",
       "  <thead>\n",
       "    <tr style=\"text-align: right;\">\n",
       "      <th></th>\n",
       "      <th>Order ID</th>\n",
       "      <th>Amount</th>\n",
       "      <th>Profit</th>\n",
       "      <th>Quantity</th>\n",
       "      <th>Category</th>\n",
       "      <th>Sub-Category</th>\n",
       "    </tr>\n",
       "  </thead>\n",
       "  <tbody>\n",
       "    <tr>\n",
       "      <th>0</th>\n",
       "      <td>B-25601</td>\n",
       "      <td>1275.0</td>\n",
       "      <td>-1148.0</td>\n",
       "      <td>7</td>\n",
       "      <td>Furniture</td>\n",
       "      <td>Bookcases</td>\n",
       "    </tr>\n",
       "    <tr>\n",
       "      <th>1</th>\n",
       "      <td>B-25601</td>\n",
       "      <td>66.0</td>\n",
       "      <td>-12.0</td>\n",
       "      <td>5</td>\n",
       "      <td>Clothing</td>\n",
       "      <td>Stole</td>\n",
       "    </tr>\n",
       "  </tbody>\n",
       "</table>\n",
       "</div>"
      ],
      "text/plain": [
       "  Order ID  Amount  Profit  Quantity   Category Sub-Category\n",
       "0  B-25601  1275.0 -1148.0         7  Furniture    Bookcases\n",
       "1  B-25601    66.0   -12.0         5   Clothing        Stole"
      ]
     },
     "execution_count": 3,
     "metadata": {},
     "output_type": "execute_result"
    }
   ],
   "source": [
    "detail.head(2)"
   ]
  },
  {
   "cell_type": "code",
   "execution_count": 4,
   "id": "4d7ef833",
   "metadata": {},
   "outputs": [
    {
     "data": {
      "text/html": [
       "<div>\n",
       "<style scoped>\n",
       "    .dataframe tbody tr th:only-of-type {\n",
       "        vertical-align: middle;\n",
       "    }\n",
       "\n",
       "    .dataframe tbody tr th {\n",
       "        vertical-align: top;\n",
       "    }\n",
       "\n",
       "    .dataframe thead th {\n",
       "        text-align: right;\n",
       "    }\n",
       "</style>\n",
       "<table border=\"1\" class=\"dataframe\">\n",
       "  <thead>\n",
       "    <tr style=\"text-align: right;\">\n",
       "      <th></th>\n",
       "      <th>Order ID</th>\n",
       "      <th>Order Date</th>\n",
       "      <th>CustomerName</th>\n",
       "      <th>State</th>\n",
       "      <th>City</th>\n",
       "    </tr>\n",
       "  </thead>\n",
       "  <tbody>\n",
       "    <tr>\n",
       "      <th>0</th>\n",
       "      <td>B-25601</td>\n",
       "      <td>01-04-2018</td>\n",
       "      <td>Bharat</td>\n",
       "      <td>Gujarat</td>\n",
       "      <td>Ahmedabad</td>\n",
       "    </tr>\n",
       "    <tr>\n",
       "      <th>1</th>\n",
       "      <td>B-25602</td>\n",
       "      <td>01-04-2018</td>\n",
       "      <td>Pearl</td>\n",
       "      <td>Maharashtra</td>\n",
       "      <td>Pune</td>\n",
       "    </tr>\n",
       "  </tbody>\n",
       "</table>\n",
       "</div>"
      ],
      "text/plain": [
       "  Order ID  Order Date CustomerName        State       City\n",
       "0  B-25601  01-04-2018       Bharat      Gujarat  Ahmedabad\n",
       "1  B-25602  01-04-2018        Pearl  Maharashtra       Pune"
      ]
     },
     "execution_count": 4,
     "metadata": {},
     "output_type": "execute_result"
    }
   ],
   "source": [
    "order.head(2)"
   ]
  },
  {
   "cell_type": "code",
   "execution_count": 5,
   "id": "2c761529",
   "metadata": {},
   "outputs": [
    {
     "data": {
      "text/html": [
       "<div>\n",
       "<style scoped>\n",
       "    .dataframe tbody tr th:only-of-type {\n",
       "        vertical-align: middle;\n",
       "    }\n",
       "\n",
       "    .dataframe tbody tr th {\n",
       "        vertical-align: top;\n",
       "    }\n",
       "\n",
       "    .dataframe thead th {\n",
       "        text-align: right;\n",
       "    }\n",
       "</style>\n",
       "<table border=\"1\" class=\"dataframe\">\n",
       "  <thead>\n",
       "    <tr style=\"text-align: right;\">\n",
       "      <th></th>\n",
       "      <th>Month of Order Date</th>\n",
       "      <th>Category</th>\n",
       "      <th>Target</th>\n",
       "    </tr>\n",
       "  </thead>\n",
       "  <tbody>\n",
       "    <tr>\n",
       "      <th>0</th>\n",
       "      <td>Apr-18</td>\n",
       "      <td>Furniture</td>\n",
       "      <td>10400.0</td>\n",
       "    </tr>\n",
       "    <tr>\n",
       "      <th>1</th>\n",
       "      <td>May-18</td>\n",
       "      <td>Furniture</td>\n",
       "      <td>10500.0</td>\n",
       "    </tr>\n",
       "  </tbody>\n",
       "</table>\n",
       "</div>"
      ],
      "text/plain": [
       "  Month of Order Date   Category   Target\n",
       "0              Apr-18  Furniture  10400.0\n",
       "1              May-18  Furniture  10500.0"
      ]
     },
     "execution_count": 5,
     "metadata": {},
     "output_type": "execute_result"
    }
   ],
   "source": [
    "target.head(2)"
   ]
  },
  {
   "cell_type": "markdown",
   "id": "d6191818",
   "metadata": {},
   "source": [
    "## Exploring Datasets"
   ]
  },
  {
   "cell_type": "code",
   "execution_count": 6,
   "id": "7a6ba8a6",
   "metadata": {},
   "outputs": [
    {
     "name": "stdout",
     "output_type": "stream",
     "text": [
      "(1500, 6)\n",
      "(560, 5)\n",
      "(36, 3)\n"
     ]
    }
   ],
   "source": [
    "# Show me No. (rows, columns) of datasets\n",
    "print(detail.shape)\n",
    "print(order.shape)\n",
    "print(target.shape)"
   ]
  },
  {
   "cell_type": "code",
   "execution_count": 7,
   "id": "3bb92172",
   "metadata": {},
   "outputs": [
    {
     "name": "stdout",
     "output_type": "stream",
     "text": [
      "<class 'pandas.core.frame.DataFrame'>\n",
      "RangeIndex: 1500 entries, 0 to 1499\n",
      "Data columns (total 6 columns):\n",
      " #   Column        Non-Null Count  Dtype  \n",
      "---  ------        --------------  -----  \n",
      " 0   Order ID      1500 non-null   object \n",
      " 1   Amount        1500 non-null   float64\n",
      " 2   Profit        1500 non-null   float64\n",
      " 3   Quantity      1500 non-null   int64  \n",
      " 4   Category      1500 non-null   object \n",
      " 5   Sub-Category  1500 non-null   object \n",
      "dtypes: float64(2), int64(1), object(3)\n",
      "memory usage: 70.4+ KB\n",
      "None\n",
      "<class 'pandas.core.frame.DataFrame'>\n",
      "RangeIndex: 560 entries, 0 to 559\n",
      "Data columns (total 5 columns):\n",
      " #   Column        Non-Null Count  Dtype \n",
      "---  ------        --------------  ----- \n",
      " 0   Order ID      500 non-null    object\n",
      " 1   Order Date    500 non-null    object\n",
      " 2   CustomerName  500 non-null    object\n",
      " 3   State         500 non-null    object\n",
      " 4   City          500 non-null    object\n",
      "dtypes: object(5)\n",
      "memory usage: 22.0+ KB\n",
      "None\n",
      "<class 'pandas.core.frame.DataFrame'>\n",
      "RangeIndex: 36 entries, 0 to 35\n",
      "Data columns (total 3 columns):\n",
      " #   Column               Non-Null Count  Dtype  \n",
      "---  ------               --------------  -----  \n",
      " 0   Month of Order Date  36 non-null     object \n",
      " 1   Category             36 non-null     object \n",
      " 2   Target               36 non-null     float64\n",
      "dtypes: float64(1), object(2)\n",
      "memory usage: 992.0+ bytes\n",
      "None\n"
     ]
    }
   ],
   "source": [
    "# show me basic information about my datasets\n",
    "print(detail.info())\n",
    "print(order.info())\n",
    "print(target.info())"
   ]
  },
  {
   "cell_type": "code",
   "execution_count": 8,
   "id": "fd99a8d0",
   "metadata": {},
   "outputs": [
    {
     "name": "stdout",
     "output_type": "stream",
     "text": [
      "Order ID        500\n",
      "Amount          585\n",
      "Profit          401\n",
      "Quantity         14\n",
      "Category          3\n",
      "Sub-Category     17\n",
      "dtype: int64\n",
      "Order ID        500\n",
      "Order Date      307\n",
      "CustomerName    332\n",
      "State            19\n",
      "City             24\n",
      "dtype: int64\n",
      "Month of Order Date    12\n",
      "Category                3\n",
      "Target                 16\n",
      "dtype: int64\n"
     ]
    }
   ],
   "source": [
    "# show unique values in each coloums\n",
    "print(detail.nunique())\n",
    "print(order.nunique())\n",
    "print(target.nunique())"
   ]
  },
  {
   "cell_type": "code",
   "execution_count": 9,
   "id": "f135ea30",
   "metadata": {},
   "outputs": [],
   "source": [
    "# Drop duplicates from  datasets\n",
    "detail.drop_duplicates(keep=\"first\",inplace = True)\n",
    "order.drop_duplicates(keep=\"first\",inplace = True)\n",
    "target.drop_duplicates(keep=\"first\",inplace = True)"
   ]
  },
  {
   "cell_type": "code",
   "execution_count": 10,
   "id": "fae714af",
   "metadata": {
    "scrolled": false
   },
   "outputs": [
    {
     "data": {
      "image/png": "[encoded data removed]",
      "text/plain": [
       "<Figure size 1296x576 with 2 Axes>"
      ]
     },
     "metadata": {
      "needs_background": "light"
     },
     "output_type": "display_data"
    }
   ],
   "source": [
    "# show me \"Null\" values in detail dataset\n",
    "sns.heatmap(detail.isnull())\n",
    "matplotlib.rcParams[\"figure.figsize\"] = (15,3) "
   ]
  },
  {
   "cell_type": "code",
   "execution_count": 11,
   "id": "64695daf",
   "metadata": {},
   "outputs": [
    {
     "data": {
      "image/png": "[encoded data removed]",
      "text/plain": [
       "<Figure size 1080x216 with 2 Axes>"
      ]
     },
     "metadata": {
      "needs_background": "light"
     },
     "output_type": "display_data"
    }
   ],
   "source": [
    "# show me \"Null\" values in order dataset\n",
    "sns.heatmap(order.isnull())\n",
    "matplotlib.rcParams[\"figure.figsize\"] = (15,3) "
   ]
  },
  {
   "cell_type": "code",
   "execution_count": 12,
   "id": "8bd688fb",
   "metadata": {
    "scrolled": true
   },
   "outputs": [
    {
     "data": {
      "image/png": "[encoded data removed]",
      "text/plain": [
       "<Figure size 1080x216 with 2 Axes>"
      ]
     },
     "metadata": {
      "needs_background": "light"
     },
     "output_type": "display_data"
    }
   ],
   "source": [
    "# show me \"Null\" values in target dataset\n",
    "sns.heatmap(target.isnull())\n",
    "matplotlib.rcParams[\"figure.figsize\"] = (15,3) "
   ]
  },
  {
   "cell_type": "code",
   "execution_count": 13,
   "id": "ced9337d",
   "metadata": {},
   "outputs": [],
   "source": [
    "# Merge both detail & order dataset on the basis of there order ID\n",
    "sales = pd.merge(detail, order, on='Order ID', how='left')"
   ]
  },
  {
   "cell_type": "code",
   "execution_count": 14,
   "id": "44d51e7f",
   "metadata": {},
   "outputs": [],
   "source": [
    "# Show Max columns or Rows\n",
    "pd.set_option(\"display.max_columns\", None)\n",
    "pd.set_option(\"display.max_rows\", None)"
   ]
  },
  {
   "cell_type": "code",
   "execution_count": 15,
   "id": "d900b50b",
   "metadata": {},
   "outputs": [],
   "source": [
    "#Add new columns for month,year in sales dataset\n",
    "sales[\"Year\"] = pd.DatetimeIndex(sales[\"Order Date\"]).year\n",
    "sales[\"Month\"] = pd.DatetimeIndex(sales[\"Order Date\"]).month"
   ]
  },
  {
   "cell_type": "code",
   "execution_count": 16,
   "id": "2aff3b7c",
   "metadata": {
    "scrolled": true
   },
   "outputs": [
    {
     "data": {
      "text/html": [
       "<div>\n",
       "<style scoped>\n",
       "    .dataframe tbody tr th:only-of-type {\n",
       "        vertical-align: middle;\n",
       "    }\n",
       "\n",
       "    .dataframe tbody tr th {\n",
       "        vertical-align: top;\n",
       "    }\n",
       "\n",
       "    .dataframe thead th {\n",
       "        text-align: right;\n",
       "    }\n",
       "</style>\n",
       "<table border=\"1\" class=\"dataframe\">\n",
       "  <thead>\n",
       "    <tr style=\"text-align: right;\">\n",
       "      <th></th>\n",
       "      <th>Order ID</th>\n",
       "      <th>Amount</th>\n",
       "      <th>Profit</th>\n",
       "      <th>Quantity</th>\n",
       "      <th>Category</th>\n",
       "      <th>Sub-Category</th>\n",
       "      <th>Order Date</th>\n",
       "      <th>CustomerName</th>\n",
       "      <th>State</th>\n",
       "      <th>City</th>\n",
       "      <th>Year</th>\n",
       "      <th>Month</th>\n",
       "    </tr>\n",
       "  </thead>\n",
       "  <tbody>\n",
       "    <tr>\n",
       "      <th>0</th>\n",
       "      <td>B-25601</td>\n",
       "      <td>1275.0</td>\n",
       "      <td>-1148.0</td>\n",
       "      <td>7</td>\n",
       "      <td>Furniture</td>\n",
       "      <td>Bookcases</td>\n",
       "      <td>01-04-2018</td>\n",
       "      <td>Bharat</td>\n",
       "      <td>Gujarat</td>\n",
       "      <td>Ahmedabad</td>\n",
       "      <td>2018</td>\n",
       "      <td>1</td>\n",
       "    </tr>\n",
       "    <tr>\n",
       "      <th>1</th>\n",
       "      <td>B-25601</td>\n",
       "      <td>66.0</td>\n",
       "      <td>-12.0</td>\n",
       "      <td>5</td>\n",
       "      <td>Clothing</td>\n",
       "      <td>Stole</td>\n",
       "      <td>01-04-2018</td>\n",
       "      <td>Bharat</td>\n",
       "      <td>Gujarat</td>\n",
       "      <td>Ahmedabad</td>\n",
       "      <td>2018</td>\n",
       "      <td>1</td>\n",
       "    </tr>\n",
       "  </tbody>\n",
       "</table>\n",
       "</div>"
      ],
      "text/plain": [
       "  Order ID  Amount  Profit  Quantity   Category Sub-Category  Order Date  \\\n",
       "0  B-25601  1275.0 -1148.0         7  Furniture    Bookcases  01-04-2018   \n",
       "1  B-25601    66.0   -12.0         5   Clothing        Stole  01-04-2018   \n",
       "\n",
       "  CustomerName    State       City  Year  Month  \n",
       "0       Bharat  Gujarat  Ahmedabad  2018      1  \n",
       "1       Bharat  Gujarat  Ahmedabad  2018      1  "
      ]
     },
     "execution_count": 16,
     "metadata": {},
     "output_type": "execute_result"
    }
   ],
   "source": [
    "sales.head(2)"
   ]
  },
  {
   "cell_type": "markdown",
   "id": "504c035b",
   "metadata": {},
   "source": [
    "## Handle Outliers\n",
    "1) Check the distribution of data for  detecting outliers \n",
    "\n",
    "2) Take action to remove outiers\n",
    "\n"
   ]
  },
  {
   "cell_type": "code",
   "execution_count": 17,
   "id": "c6671f85",
   "metadata": {},
   "outputs": [
    {
     "data": {
      "text/html": [
       "<div>\n",
       "<style scoped>\n",
       "    .dataframe tbody tr th:only-of-type {\n",
       "        vertical-align: middle;\n",
       "    }\n",
       "\n",
       "    .dataframe tbody tr th {\n",
       "        vertical-align: top;\n",
       "    }\n",
       "\n",
       "    .dataframe thead th {\n",
       "        text-align: right;\n",
       "    }\n",
       "</style>\n",
       "<table border=\"1\" class=\"dataframe\">\n",
       "  <thead>\n",
       "    <tr style=\"text-align: right;\">\n",
       "      <th></th>\n",
       "      <th>Amount</th>\n",
       "      <th>Profit</th>\n",
       "      <th>Quantity</th>\n",
       "      <th>Year</th>\n",
       "      <th>Month</th>\n",
       "    </tr>\n",
       "  </thead>\n",
       "  <tbody>\n",
       "    <tr>\n",
       "      <th>count</th>\n",
       "      <td>1500.000000</td>\n",
       "      <td>1500.000000</td>\n",
       "      <td>1500.000000</td>\n",
       "      <td>1500.000000</td>\n",
       "      <td>1500.000000</td>\n",
       "    </tr>\n",
       "    <tr>\n",
       "      <th>mean</th>\n",
       "      <td>287.668000</td>\n",
       "      <td>15.970000</td>\n",
       "      <td>3.743333</td>\n",
       "      <td>2018.358000</td>\n",
       "      <td>6.050667</td>\n",
       "    </tr>\n",
       "    <tr>\n",
       "      <th>std</th>\n",
       "      <td>461.050488</td>\n",
       "      <td>169.140565</td>\n",
       "      <td>2.184942</td>\n",
       "      <td>0.479572</td>\n",
       "      <td>3.480447</td>\n",
       "    </tr>\n",
       "    <tr>\n",
       "      <th>min</th>\n",
       "      <td>4.000000</td>\n",
       "      <td>-1981.000000</td>\n",
       "      <td>1.000000</td>\n",
       "      <td>2018.000000</td>\n",
       "      <td>1.000000</td>\n",
       "    </tr>\n",
       "    <tr>\n",
       "      <th>25%</th>\n",
       "      <td>45.000000</td>\n",
       "      <td>-9.250000</td>\n",
       "      <td>2.000000</td>\n",
       "      <td>2018.000000</td>\n",
       "      <td>3.000000</td>\n",
       "    </tr>\n",
       "    <tr>\n",
       "      <th>50%</th>\n",
       "      <td>118.000000</td>\n",
       "      <td>9.000000</td>\n",
       "      <td>3.000000</td>\n",
       "      <td>2018.000000</td>\n",
       "      <td>6.000000</td>\n",
       "    </tr>\n",
       "    <tr>\n",
       "      <th>75%</th>\n",
       "      <td>322.000000</td>\n",
       "      <td>38.000000</td>\n",
       "      <td>5.000000</td>\n",
       "      <td>2019.000000</td>\n",
       "      <td>9.000000</td>\n",
       "    </tr>\n",
       "    <tr>\n",
       "      <th>max</th>\n",
       "      <td>5729.000000</td>\n",
       "      <td>1698.000000</td>\n",
       "      <td>14.000000</td>\n",
       "      <td>2019.000000</td>\n",
       "      <td>12.000000</td>\n",
       "    </tr>\n",
       "  </tbody>\n",
       "</table>\n",
       "</div>"
      ],
      "text/plain": [
       "            Amount       Profit     Quantity         Year        Month\n",
       "count  1500.000000  1500.000000  1500.000000  1500.000000  1500.000000\n",
       "mean    287.668000    15.970000     3.743333  2018.358000     6.050667\n",
       "std     461.050488   169.140565     2.184942     0.479572     3.480447\n",
       "min       4.000000 -1981.000000     1.000000  2018.000000     1.000000\n",
       "25%      45.000000    -9.250000     2.000000  2018.000000     3.000000\n",
       "50%     118.000000     9.000000     3.000000  2018.000000     6.000000\n",
       "75%     322.000000    38.000000     5.000000  2019.000000     9.000000\n",
       "max    5729.000000  1698.000000    14.000000  2019.000000    12.000000"
      ]
     },
     "execution_count": 17,
     "metadata": {},
     "output_type": "execute_result"
    }
   ],
   "source": [
    "sales.describe()"
   ]
  },
  {
   "cell_type": "code",
   "execution_count": 18,
   "id": "5e8b4bb5",
   "metadata": {},
   "outputs": [
    {
     "data": {
      "text/plain": [
       "2125.629999999999"
      ]
     },
     "execution_count": 18,
     "metadata": {},
     "output_type": "execute_result"
    }
   ],
   "source": [
    "sales[\"Amount\"].quantile(.99)"
   ]
  },
  {
   "cell_type": "code",
   "execution_count": 19,
   "id": "ce7ae9bb",
   "metadata": {},
   "outputs": [
    {
     "data": {
      "text/plain": [
       "24.0"
      ]
     },
     "execution_count": 19,
     "metadata": {},
     "output_type": "execute_result"
    }
   ],
   "source": [
    "sales[\"Amount\"].quantile(.1)"
   ]
  },
  {
   "cell_type": "code",
   "execution_count": 20,
   "id": "334478a8",
   "metadata": {},
   "outputs": [
    {
     "data": {
      "text/plain": [
       "564.03"
      ]
     },
     "execution_count": 20,
     "metadata": {},
     "output_type": "execute_result"
    }
   ],
   "source": [
    "sales[\"Profit\"].quantile(.99)"
   ]
  },
  {
   "cell_type": "code",
   "execution_count": 21,
   "id": "482be7b6",
   "metadata": {},
   "outputs": [
    {
     "data": {
      "text/plain": [
       "-492.11"
      ]
     },
     "execution_count": 21,
     "metadata": {},
     "output_type": "execute_result"
    }
   ],
   "source": [
    "sales[\"Profit\"].quantile(.01)"
   ]
  },
  {
   "cell_type": "code",
   "execution_count": 22,
   "id": "f890aaad",
   "metadata": {},
   "outputs": [
    {
     "data": {
      "text/plain": [
       "Int64Index([   0,   22,   31,  117,  138,  198,  236,  249,  257,  365,  367,\n",
       "             368,  467,  489,  504,  528,  529,  536,  585,  589,  605,  931,\n",
       "             977, 1252],\n",
       "           dtype='int64')"
      ]
     },
     "execution_count": 22,
     "metadata": {},
     "output_type": "execute_result"
    }
   ],
   "source": [
    "outliers = sales[(sales[\"Profit\"]<=(-400)) & (sales[\"Amount\"] >= (24))].index \n",
    "outliers "
   ]
  },
  {
   "cell_type": "code",
   "execution_count": 23,
   "id": "6f7b238d",
   "metadata": {},
   "outputs": [],
   "source": [
    "sales.drop(outliers, inplace =True)"
   ]
  },
  {
   "cell_type": "code",
   "execution_count": 24,
   "id": "fc8ea419",
   "metadata": {},
   "outputs": [
    {
     "data": {
      "text/plain": [
       "24"
      ]
     },
     "execution_count": 24,
     "metadata": {},
     "output_type": "execute_result"
    }
   ],
   "source": [
    "#Nos. of dedecting outliers\n",
    "outliers.value_counts().sum()"
   ]
  },
  {
   "cell_type": "markdown",
   "id": "d2dd732b",
   "metadata": {},
   "source": [
    "## Analysis & Visualization "
   ]
  },
  {
   "cell_type": "markdown",
   "id": "fad234e9",
   "metadata": {},
   "source": [
    "### Q.1 Which states are generating highest amount of sales ? \n"
   ]
  },
  {
   "cell_type": "code",
   "execution_count": 25,
   "id": "5ac829c1",
   "metadata": {
    "scrolled": false
   },
   "outputs": [
    {
     "data": {
      "image/png": "[encoded data removed]",
      "text/plain": [
       "<Figure size 1080x216 with 1 Axes>"
      ]
     },
     "metadata": {
      "needs_background": "light"
     },
     "output_type": "display_data"
    }
   ],
   "source": [
    "# Madhya Pradesh is generated highest amount of sales.\n",
    "sales.groupby(\"State\")[\"Amount\"].sum().sort_values( ascending= False)[:5].plot.bar(color=\"crimson\")\n",
    "plt.xticks(rotation=0, fontsize=15 , color = \"black\" )\n",
    "plt.yticks(rotation=0, fontsize=15 , color = \"black\" )\n",
    "plt.rcParams[\"figure.figsize\"] = (18,8)\n",
    "plt.ylabel(\"Sales Amount\",fontsize=15, color=\"r\")\n",
    "plt.xlabel(\"States\",fontsize=15, color=\"r\")\n",
    "plt.title(\" Highest Sales Generating States\", fontsize=20, color=\"r\")\n",
    "plt.show()"
   ]
  },
  {
   "cell_type": "markdown",
   "id": "c733ea11",
   "metadata": {},
   "source": [
    "### Q.2 Which are the top most selling sub-categories by amount ? "
   ]
  },
  {
   "cell_type": "code",
   "execution_count": 26,
   "id": "9e29050c",
   "metadata": {},
   "outputs": [
    {
     "data": {
      "image/png": "[encoded data removed]",
      "text/plain": [
       "<Figure size 1296x576 with 1 Axes>"
      ]
     },
     "metadata": {
      "needs_background": "light"
     },
     "output_type": "display_data"
    }
   ],
   "source": [
    "#  Prinetrs are the highest selling subcategory\n",
    "sales_sub_cat = sales.groupby(\"Sub-Category\")[\"Amount\"].sum().sort_values(ascending = False).plot.bar(color=\"darkcyan\")\n",
    "plt.xticks(rotation=60, fontsize=15 , color = \"black\" )\n",
    "plt.rcParams[\"figure.figsize\"] = (18,8)\n",
    "plt.xlabel(\"Name of Products\",fontsize=15, color=\"r\")\n",
    "plt.ylabel(\"Sales Amount\",fontsize=15, color=\"r\")\n",
    "plt.title(\"Most Selling Sub-Category\", fontsize=20, color=\"r\")\n",
    "plt.show()"
   ]
  },
  {
   "cell_type": "markdown",
   "id": "ed64d9af",
   "metadata": {},
   "source": [
    "### Q.3 Which Category is most Proffitable ?"
   ]
  },
  {
   "cell_type": "code",
   "execution_count": 27,
   "id": "04ae1ea9",
   "metadata": {},
   "outputs": [
    {
     "data": {
      "text/plain": [
       "Category\n",
       "Electronics    19634.0\n",
       "Clothing       12018.0\n",
       "Furniture      10189.0\n",
       "Name: Profit, dtype: float64"
      ]
     },
     "execution_count": 27,
     "metadata": {},
     "output_type": "execute_result"
    }
   ],
   "source": [
    "# Electronics is most proffitable category\n",
    "sales_profit = (sales.groupby(\"Category\")[\"Profit\"].sum().sort_values(ascending=False))\n",
    "sales_profit\n"
   ]
  },
  {
   "cell_type": "code",
   "execution_count": 28,
   "id": "81998f96",
   "metadata": {},
   "outputs": [
    {
     "data": {
      "image/png": "[encoded data removed]",
      "text/plain": [
       "<Figure size 1296x576 with 1 Axes>"
      ]
     },
     "metadata": {},
     "output_type": "display_data"
    }
   ],
   "source": [
    "sales_profit = (19634,12018,10189)\n",
    "cat=[\"Electronics\",\"Clothing\",\"Furniture\"]\n",
    "plt.pie (x=sales_profit, labels = cat ,colors = [\"green\" , \"blue\", \"orange\",], startangle=90, autopct = \"%0.1f%%\" ,explode=[0.05,0.05,0.05], radius= .8)\n",
    "plt.title( \"Profit ratio by Category\" ,fontsize=20)\n",
    "plt.show()"
   ]
  },
  {
   "cell_type": "markdown",
   "id": "4e00949f",
   "metadata": {},
   "source": [
    "### Q.4 Which Category genrates most amount of sales ?"
   ]
  },
  {
   "cell_type": "code",
   "execution_count": 29,
   "id": "d03a94c7",
   "metadata": {},
   "outputs": [
    {
     "data": {
      "text/html": [
       "<div>\n",
       "<style scoped>\n",
       "    .dataframe tbody tr th:only-of-type {\n",
       "        vertical-align: middle;\n",
       "    }\n",
       "\n",
       "    .dataframe tbody tr th {\n",
       "        vertical-align: top;\n",
       "    }\n",
       "\n",
       "    .dataframe thead th {\n",
       "        text-align: right;\n",
       "    }\n",
       "</style>\n",
       "<table border=\"1\" class=\"dataframe\">\n",
       "  <thead>\n",
       "    <tr style=\"text-align: right;\">\n",
       "      <th></th>\n",
       "      <th>Category</th>\n",
       "      <th>Amount</th>\n",
       "    </tr>\n",
       "  </thead>\n",
       "  <tbody>\n",
       "    <tr>\n",
       "      <th>1</th>\n",
       "      <td>Electronics</td>\n",
       "      <td>150905.0</td>\n",
       "    </tr>\n",
       "    <tr>\n",
       "      <th>0</th>\n",
       "      <td>Clothing</td>\n",
       "      <td>137060.0</td>\n",
       "    </tr>\n",
       "    <tr>\n",
       "      <th>2</th>\n",
       "      <td>Furniture</td>\n",
       "      <td>116370.0</td>\n",
       "    </tr>\n",
       "  </tbody>\n",
       "</table>\n",
       "</div>"
      ],
      "text/plain": [
       "      Category    Amount\n",
       "1  Electronics  150905.0\n",
       "0     Clothing  137060.0\n",
       "2    Furniture  116370.0"
      ]
     },
     "execution_count": 29,
     "metadata": {},
     "output_type": "execute_result"
    }
   ],
   "source": [
    "# Electronics category generated highest amount of sales \n",
    "sales_amt = sales.groupby(['Category'])['Amount'].sum().reset_index().sort_values(by=[\"Amount\"],ascending=False)\n",
    "sales_amt"
   ]
  },
  {
   "cell_type": "code",
   "execution_count": 30,
   "id": "fe85ae51",
   "metadata": {},
   "outputs": [
    {
     "data": {
      "image/png": "[encoded data removed]",
      "text/plain": [
       "<Figure size 1296x576 with 1 Axes>"
      ]
     },
     "metadata": {},
     "output_type": "display_data"
    }
   ],
   "source": [
    "sales_amount = (150905,137060,116370)\n",
    "cat=[\"Electronics\",\"Clothing\",\"Furniture\"]\n",
    "plt.pie (x=sales_amount, labels = cat ,colors = [\"yellow\" , \"violet\", \"green\",], startangle=90, autopct = \"%0.1f%%\" , explode=[0.05,0.05,0.05], radius= .8)\n",
    "plt.title( \"Sales Ratio by Category \" ,fontsize=20)\n",
    "plt.show()"
   ]
  },
  {
   "cell_type": "markdown",
   "id": "bb78fa1a",
   "metadata": {},
   "source": [
    "### Q.5 Which are the 10 top most proffitable orders ?"
   ]
  },
  {
   "cell_type": "code",
   "execution_count": 31,
   "id": "44b8ab34",
   "metadata": {},
   "outputs": [
    {
     "data": {
      "text/html": [
       "<div>\n",
       "<style scoped>\n",
       "    .dataframe tbody tr th:only-of-type {\n",
       "        vertical-align: middle;\n",
       "    }\n",
       "\n",
       "    .dataframe tbody tr th {\n",
       "        vertical-align: top;\n",
       "    }\n",
       "\n",
       "    .dataframe thead th {\n",
       "        text-align: right;\n",
       "    }\n",
       "</style>\n",
       "<table border=\"1\" class=\"dataframe\">\n",
       "  <thead>\n",
       "    <tr style=\"text-align: right;\">\n",
       "      <th></th>\n",
       "      <th>index</th>\n",
       "      <th>Order ID</th>\n",
       "      <th>Amount</th>\n",
       "      <th>Profit</th>\n",
       "      <th>Quantity</th>\n",
       "      <th>Category</th>\n",
       "      <th>Sub-Category</th>\n",
       "      <th>Order Date</th>\n",
       "      <th>CustomerName</th>\n",
       "      <th>State</th>\n",
       "      <th>City</th>\n",
       "      <th>Year</th>\n",
       "      <th>Month</th>\n",
       "    </tr>\n",
       "  </thead>\n",
       "  <tbody>\n",
       "    <tr>\n",
       "      <th>0</th>\n",
       "      <td>290</td>\n",
       "      <td>B-25698</td>\n",
       "      <td>516.0</td>\n",
       "      <td>-392.0</td>\n",
       "      <td>8</td>\n",
       "      <td>Furniture</td>\n",
       "      <td>Chairs</td>\n",
       "      <td>23-06-2018</td>\n",
       "      <td>Amisha</td>\n",
       "      <td>Tamil Nadu</td>\n",
       "      <td>Chennai</td>\n",
       "      <td>2018</td>\n",
       "      <td>6</td>\n",
       "    </tr>\n",
       "    <tr>\n",
       "      <th>1</th>\n",
       "      <td>533</td>\n",
       "      <td>B-25781</td>\n",
       "      <td>767.0</td>\n",
       "      <td>-353.0</td>\n",
       "      <td>5</td>\n",
       "      <td>Clothing</td>\n",
       "      <td>Trousers</td>\n",
       "      <td>14-09-2018</td>\n",
       "      <td>Rutuja</td>\n",
       "      <td>Gujarat</td>\n",
       "      <td>Ahmedabad</td>\n",
       "      <td>2018</td>\n",
       "      <td>9</td>\n",
       "    </tr>\n",
       "    <tr>\n",
       "      <th>2</th>\n",
       "      <td>60</td>\n",
       "      <td>B-25625</td>\n",
       "      <td>635.0</td>\n",
       "      <td>-349.0</td>\n",
       "      <td>5</td>\n",
       "      <td>Clothing</td>\n",
       "      <td>Saree</td>\n",
       "      <td>23-04-2018</td>\n",
       "      <td>Pinky</td>\n",
       "      <td>Jammu and Kashmir</td>\n",
       "      <td>Kashmir</td>\n",
       "      <td>2018</td>\n",
       "      <td>4</td>\n",
       "    </tr>\n",
       "    <tr>\n",
       "      <th>3</th>\n",
       "      <td>256</td>\n",
       "      <td>B-25688</td>\n",
       "      <td>352.0</td>\n",
       "      <td>-345.0</td>\n",
       "      <td>5</td>\n",
       "      <td>Clothing</td>\n",
       "      <td>Saree</td>\n",
       "      <td>11-06-2018</td>\n",
       "      <td>Swetha</td>\n",
       "      <td>Madhya Pradesh</td>\n",
       "      <td>Indore</td>\n",
       "      <td>2018</td>\n",
       "      <td>11</td>\n",
       "    </tr>\n",
       "    <tr>\n",
       "      <th>4</th>\n",
       "      <td>1431</td>\n",
       "      <td>B-26081</td>\n",
       "      <td>359.0</td>\n",
       "      <td>-338.0</td>\n",
       "      <td>5</td>\n",
       "      <td>Furniture</td>\n",
       "      <td>Bookcases</td>\n",
       "      <td>22-03-2019</td>\n",
       "      <td>Aarushi</td>\n",
       "      <td>Tamil Nadu</td>\n",
       "      <td>Chennai</td>\n",
       "      <td>2019</td>\n",
       "      <td>3</td>\n",
       "    </tr>\n",
       "    <tr>\n",
       "      <th>5</th>\n",
       "      <td>266</td>\n",
       "      <td>B-25693</td>\n",
       "      <td>632.0</td>\n",
       "      <td>-316.0</td>\n",
       "      <td>6</td>\n",
       "      <td>Clothing</td>\n",
       "      <td>Saree</td>\n",
       "      <td>18-06-2018</td>\n",
       "      <td>Parna</td>\n",
       "      <td>Madhya Pradesh</td>\n",
       "      <td>Bhopal</td>\n",
       "      <td>2018</td>\n",
       "      <td>6</td>\n",
       "    </tr>\n",
       "    <tr>\n",
       "      <th>6</th>\n",
       "      <td>578</td>\n",
       "      <td>B-25796</td>\n",
       "      <td>632.0</td>\n",
       "      <td>-316.0</td>\n",
       "      <td>6</td>\n",
       "      <td>Clothing</td>\n",
       "      <td>Saree</td>\n",
       "      <td>24-09-2018</td>\n",
       "      <td>Sukrith</td>\n",
       "      <td>Maharashtra</td>\n",
       "      <td>Mumbai</td>\n",
       "      <td>2018</td>\n",
       "      <td>9</td>\n",
       "    </tr>\n",
       "    <tr>\n",
       "      <th>7</th>\n",
       "      <td>458</td>\n",
       "      <td>B-25755</td>\n",
       "      <td>321.0</td>\n",
       "      <td>-315.0</td>\n",
       "      <td>5</td>\n",
       "      <td>Clothing</td>\n",
       "      <td>Saree</td>\n",
       "      <td>19-08-2018</td>\n",
       "      <td>Shourya</td>\n",
       "      <td>Kerala</td>\n",
       "      <td>Thiruvananthapuram</td>\n",
       "      <td>2018</td>\n",
       "      <td>8</td>\n",
       "    </tr>\n",
       "    <tr>\n",
       "      <th>8</th>\n",
       "      <td>583</td>\n",
       "      <td>B-25797</td>\n",
       "      <td>413.0</td>\n",
       "      <td>-314.0</td>\n",
       "      <td>9</td>\n",
       "      <td>Furniture</td>\n",
       "      <td>Chairs</td>\n",
       "      <td>30-09-2018</td>\n",
       "      <td>Sauptik</td>\n",
       "      <td>Madhya Pradesh</td>\n",
       "      <td>Indore</td>\n",
       "      <td>2018</td>\n",
       "      <td>9</td>\n",
       "    </tr>\n",
       "    <tr>\n",
       "      <th>9</th>\n",
       "      <td>453</td>\n",
       "      <td>B-25754</td>\n",
       "      <td>319.0</td>\n",
       "      <td>-312.0</td>\n",
       "      <td>5</td>\n",
       "      <td>Clothing</td>\n",
       "      <td>Saree</td>\n",
       "      <td>18-08-2018</td>\n",
       "      <td>Akshay</td>\n",
       "      <td>Bihar</td>\n",
       "      <td>Patna</td>\n",
       "      <td>2018</td>\n",
       "      <td>8</td>\n",
       "    </tr>\n",
       "  </tbody>\n",
       "</table>\n",
       "</div>"
      ],
      "text/plain": [
       "   index Order ID  Amount  Profit  Quantity   Category Sub-Category  \\\n",
       "0    290  B-25698   516.0  -392.0         8  Furniture       Chairs   \n",
       "1    533  B-25781   767.0  -353.0         5   Clothing     Trousers   \n",
       "2     60  B-25625   635.0  -349.0         5   Clothing        Saree   \n",
       "3    256  B-25688   352.0  -345.0         5   Clothing        Saree   \n",
       "4   1431  B-26081   359.0  -338.0         5  Furniture    Bookcases   \n",
       "5    266  B-25693   632.0  -316.0         6   Clothing        Saree   \n",
       "6    578  B-25796   632.0  -316.0         6   Clothing        Saree   \n",
       "7    458  B-25755   321.0  -315.0         5   Clothing        Saree   \n",
       "8    583  B-25797   413.0  -314.0         9  Furniture       Chairs   \n",
       "9    453  B-25754   319.0  -312.0         5   Clothing        Saree   \n",
       "\n",
       "   Order Date CustomerName              State                City  Year  Month  \n",
       "0  23-06-2018       Amisha         Tamil Nadu             Chennai  2018      6  \n",
       "1  14-09-2018       Rutuja            Gujarat           Ahmedabad  2018      9  \n",
       "2  23-04-2018        Pinky  Jammu and Kashmir             Kashmir  2018      4  \n",
       "3  11-06-2018       Swetha     Madhya Pradesh              Indore  2018     11  \n",
       "4  22-03-2019      Aarushi         Tamil Nadu             Chennai  2019      3  \n",
       "5  18-06-2018        Parna     Madhya Pradesh              Bhopal  2018      6  \n",
       "6  24-09-2018      Sukrith        Maharashtra              Mumbai  2018      9  \n",
       "7  19-08-2018      Shourya            Kerala   Thiruvananthapuram  2018      8  \n",
       "8  30-09-2018      Sauptik     Madhya Pradesh              Indore  2018      9  \n",
       "9  18-08-2018       Akshay              Bihar               Patna  2018      8  "
      ]
     },
     "execution_count": 31,
     "metadata": {},
     "output_type": "execute_result"
    }
   ],
   "source": [
    "sales.sort_values(by=[\"Profit\"], ascending= True).reset_index()[:10]"
   ]
  },
  {
   "cell_type": "markdown",
   "id": "0509021d",
   "metadata": {},
   "source": [
    "### Q.6 Top 5 cutomers who have spent the most amount ?"
   ]
  },
  {
   "cell_type": "code",
   "execution_count": 32,
   "id": "52b80521",
   "metadata": {},
   "outputs": [
    {
     "data": {
      "image/png": "[encoded data removed]",
      "text/plain": [
       "<Figure size 1296x576 with 1 Axes>"
      ]
     },
     "metadata": {
      "needs_background": "light"
     },
     "output_type": "display_data"
    }
   ],
   "source": [
    "# Pooja spent highest amount on orders \n",
    "sales.groupby([\"CustomerName\",\"State\"])[\"Amount\"].sum().sort_values(ascending=False).head(5).plot.bar(color=\"darkcyan\")\n",
    "plt.xticks(rotation=0, fontsize=15 , color = \"black\" )\n",
    "plt.yticks(rotation=0, fontsize=15 , color = \"black\" )\n",
    "plt.rcParams[\"figure.figsize\"] = (18,8)\n",
    "plt.ylabel(\"Sales Amount\",fontsize=15, color=\"r\")\n",
    "plt.xlabel(\"Customer name with State\",fontsize=15, color=\"r\")\n",
    "plt.title(\" Top 5 Customers\", fontsize=20, color=\"r\")\n",
    "plt.show()\n"
   ]
  },
  {
   "cell_type": "markdown",
   "id": "2034bc14",
   "metadata": {},
   "source": [
    "### Q.7 Which are the Top 10 states with most number of purchased items/ orders ?"
   ]
  },
  {
   "cell_type": "code",
   "execution_count": 33,
   "id": "6e6ce874",
   "metadata": {},
   "outputs": [],
   "source": [
    "cat_order = sales.groupby(['State'])['Category'].agg(\"count\").sort_values(ascending=False).head(10)\n",
    "state = cat_order.keys()\n",
    "orders = [340,290,87,74,74,68,63,62,60,54]"
   ]
  },
  {
   "cell_type": "code",
   "execution_count": 34,
   "id": "3e523b60",
   "metadata": {
    "scrolled": false
   },
   "outputs": [
    {
     "data": {
      "image/png": "[encoded data removed]",
      "text/plain": [
       "<Figure size 1296x576 with 1 Axes>"
      ]
     },
     "metadata": {
      "needs_background": "light"
     },
     "output_type": "display_data"
    }
   ],
   "source": [
    "sns.barplot(x=state, y=orders, palette=\"viridis\")\n",
    "plt.xticks (rotation= 0 , fontsize=15 , color = \"black\" )\n",
    "plt.yticks(fontsize=15 , color = \"black\" )\n",
    "plt.rcParams[\"figure.figsize\"] = (18,8)\n",
    "plt.ylabel(\"Nos of orders\",fontsize=20, color=\"r\")\n",
    "plt.xlabel(\"State Name\",fontsize=20, color=\"r\")\n",
    "plt.title(\"Top 10 States with highest number of orders \", fontsize=20, color=\"r\")\n",
    "plt.show()\n"
   ]
  },
  {
   "cell_type": "markdown",
   "id": "e4afbcbe",
   "metadata": {},
   "source": [
    "### Q.8 What is total amount of sales genrated per month ?"
   ]
  },
  {
   "cell_type": "code",
   "execution_count": 35,
   "id": "6d8eb7f8",
   "metadata": {},
   "outputs": [
    {
     "data": {
      "image/png": "[encoded data removed]",
      "text/plain": [
       "<Figure size 1296x576 with 1 Axes>"
      ]
     },
     "metadata": {
      "needs_background": "light"
     },
     "output_type": "display_data"
    }
   ],
   "source": [
    "# January generates highest amount of sales\n",
    "sales.groupby(\"Month\")[\"Amount\"].sum().sort_values(ascending=False).plot.bar(color=\"darkcyan\")\n",
    "plt.xticks (rotation= 0 , fontsize=15 , color = \"black\" )\n",
    "plt.yticks(fontsize=15 , color = \"black\" )\n",
    "plt.rcParams[\"figure.figsize\"] = (18,8)\n",
    "plt.ylabel(\"Sales Amount\",fontsize=20, color=\"r\")\n",
    "plt.xlabel(\"Months\",fontsize=20, color=\"r\")\n",
    "plt.title(\"Total Amount of Sales (Per Month)  \", fontsize=20, color=\"r\")\n",
    "plt.show()\n"
   ]
  },
  {
   "cell_type": "markdown",
   "id": "08221eb5",
   "metadata": {},
   "source": [
    "### Q.9 What is the amount of Profit generated per month ?"
   ]
  },
  {
   "cell_type": "code",
   "execution_count": 36,
   "id": "78d873d4",
   "metadata": {},
   "outputs": [
    {
     "data": {
      "image/png": "[encoded data removed]",
      "text/plain": [
       "<Figure size 1296x576 with 1 Axes>"
      ]
     },
     "metadata": {
      "needs_background": "light"
     },
     "output_type": "display_data"
    }
   ],
   "source": [
    "# January generates highest amount of profit\n",
    "sales.groupby(\"Month\")[\"Profit\"].sum().plot.bar(color=\"crimson\")\n",
    "plt.xticks (rotation= 0 , fontsize=15 , color = \"black\" )\n",
    "plt.yticks(fontsize=15 , color = \"black\" )\n",
    "plt.rcParams[\"figure.figsize\"] = (18,8)\n",
    "plt.ylabel(\"Sales Amount\",fontsize=20, color=\"r\")\n",
    "plt.xlabel(\"Months\",fontsize=20, color=\"r\")\n",
    "plt.title(\"Total Amount of Profit/Loss (Per Month) \", fontsize=20, color=\"r\")\n",
    "plt.show()\n"
   ]
  },
  {
   "cell_type": "markdown",
   "id": "0a29cd2c",
   "metadata": {},
   "source": [
    "### Q.10  Show me data of Sales Target v/s Actual sales generated ? "
   ]
  },
  {
   "cell_type": "code",
   "execution_count": 37,
   "id": "738e602c",
   "metadata": {},
   "outputs": [
    {
     "data": {
      "image/png": "[encoded data removed]",
      "text/plain": [
       "<Figure size 1296x576 with 1 Axes>"
      ]
     },
     "metadata": {
      "needs_background": "light"
     },
     "output_type": "display_data"
    }
   ],
   "source": [
    "# Sales Target v/s Actual amount of Sales\n",
    "target.groupby(\"Month of Order Date\")[\"Target\"].sum().sort_values(ascending=False).plot(color=\"crimson\", label=\"Target\")\n",
    "sales.groupby(\"Month\")[\"Amount\"].sum().sort_values(ascending=False).plot.bar(color=\"Darkcyan\",label= \"Actual Sales\")\n",
    "plt.xticks (rotation= 0 , fontsize=15 , color = \"black\" )\n",
    "plt.yticks(fontsize=15 , color = \"black\" )\n",
    "plt.rcParams[\"figure.figsize\"] = (18,8)\n",
    "plt.ylabel(\"Amount\",fontsize=20, color=\"r\")\n",
    "plt.xlabel(\"Months\",fontsize=20, color=\"r\")\n",
    "plt.title(\" Sales Target v/s Actual Amount of Sales (Per month)\", fontsize=20, color=\"r\")\n",
    "plt.legend(loc=\"upper right\",fontsize=20)\n",
    "plt.show()"
   ]
  },
  {
   "cell_type": "markdown",
   "id": "10c4bb6e",
   "metadata": {},
   "source": [
    "### Q.10 Sales target by Categories?"
   ]
  },
  {
   "cell_type": "code",
   "execution_count": 38,
   "id": "dca860a2",
   "metadata": {},
   "outputs": [
    {
     "data": {
      "text/html": [
       "<div>\n",
       "<style scoped>\n",
       "    .dataframe tbody tr th:only-of-type {\n",
       "        vertical-align: middle;\n",
       "    }\n",
       "\n",
       "    .dataframe tbody tr th {\n",
       "        vertical-align: top;\n",
       "    }\n",
       "\n",
       "    .dataframe thead th {\n",
       "        text-align: right;\n",
       "    }\n",
       "</style>\n",
       "<table border=\"1\" class=\"dataframe\">\n",
       "  <thead>\n",
       "    <tr style=\"text-align: right;\">\n",
       "      <th></th>\n",
       "      <th>Target</th>\n",
       "    </tr>\n",
       "    <tr>\n",
       "      <th>Category</th>\n",
       "      <th></th>\n",
       "    </tr>\n",
       "  </thead>\n",
       "  <tbody>\n",
       "    <tr>\n",
       "      <th>Clothing</th>\n",
       "      <td>174000.0</td>\n",
       "    </tr>\n",
       "    <tr>\n",
       "      <th>Electronics</th>\n",
       "      <td>129000.0</td>\n",
       "    </tr>\n",
       "    <tr>\n",
       "      <th>Furniture</th>\n",
       "      <td>132900.0</td>\n",
       "    </tr>\n",
       "  </tbody>\n",
       "</table>\n",
       "</div>"
      ],
      "text/plain": [
       "               Target\n",
       "Category             \n",
       "Clothing     174000.0\n",
       "Electronics  129000.0\n",
       "Furniture    132900.0"
      ]
     },
     "execution_count": 38,
     "metadata": {},
     "output_type": "execute_result"
    }
   ],
   "source": [
    "sales_target = target.groupby(\"Category\")[\"Target\"].sum()\n",
    "pd.DataFrame(sales_target)"
   ]
  },
  {
   "cell_type": "markdown",
   "id": "555dc765",
   "metadata": {},
   "source": [
    "### Q.11 Actual sales by Categories ?"
   ]
  },
  {
   "cell_type": "code",
   "execution_count": 39,
   "id": "c81bfed2",
   "metadata": {
    "scrolled": true
   },
   "outputs": [
    {
     "data": {
      "text/html": [
       "<div>\n",
       "<style scoped>\n",
       "    .dataframe tbody tr th:only-of-type {\n",
       "        vertical-align: middle;\n",
       "    }\n",
       "\n",
       "    .dataframe tbody tr th {\n",
       "        vertical-align: top;\n",
       "    }\n",
       "\n",
       "    .dataframe thead th {\n",
       "        text-align: right;\n",
       "    }\n",
       "</style>\n",
       "<table border=\"1\" class=\"dataframe\">\n",
       "  <thead>\n",
       "    <tr style=\"text-align: right;\">\n",
       "      <th></th>\n",
       "      <th>Amount</th>\n",
       "    </tr>\n",
       "    <tr>\n",
       "      <th>Category</th>\n",
       "      <th></th>\n",
       "    </tr>\n",
       "  </thead>\n",
       "  <tbody>\n",
       "    <tr>\n",
       "      <th>Clothing</th>\n",
       "      <td>137060.0</td>\n",
       "    </tr>\n",
       "    <tr>\n",
       "      <th>Electronics</th>\n",
       "      <td>150905.0</td>\n",
       "    </tr>\n",
       "    <tr>\n",
       "      <th>Furniture</th>\n",
       "      <td>116370.0</td>\n",
       "    </tr>\n",
       "  </tbody>\n",
       "</table>\n",
       "</div>"
      ],
      "text/plain": [
       "               Amount\n",
       "Category             \n",
       "Clothing     137060.0\n",
       "Electronics  150905.0\n",
       "Furniture    116370.0"
      ]
     },
     "execution_count": 39,
     "metadata": {},
     "output_type": "execute_result"
    }
   ],
   "source": [
    "actual_sales = sales.groupby(\"Category\")[\"Amount\"].sum()\n",
    "pd.DataFrame(actual_sales)"
   ]
  },
  {
   "cell_type": "markdown",
   "id": "81c81685",
   "metadata": {},
   "source": [
    "### Q.12 Profit/Loss in sales by categories ?"
   ]
  },
  {
   "cell_type": "code",
   "execution_count": 40,
   "id": "38e0cfd1",
   "metadata": {
    "scrolled": false
   },
   "outputs": [
    {
     "data": {
      "text/html": [
       "<div>\n",
       "<style scoped>\n",
       "    .dataframe tbody tr th:only-of-type {\n",
       "        vertical-align: middle;\n",
       "    }\n",
       "\n",
       "    .dataframe tbody tr th {\n",
       "        vertical-align: top;\n",
       "    }\n",
       "\n",
       "    .dataframe thead th {\n",
       "        text-align: right;\n",
       "    }\n",
       "</style>\n",
       "<table border=\"1\" class=\"dataframe\">\n",
       "  <thead>\n",
       "    <tr style=\"text-align: right;\">\n",
       "      <th></th>\n",
       "      <th>0</th>\n",
       "    </tr>\n",
       "    <tr>\n",
       "      <th>Category</th>\n",
       "      <th></th>\n",
       "    </tr>\n",
       "  </thead>\n",
       "  <tbody>\n",
       "    <tr>\n",
       "      <th>Clothing</th>\n",
       "      <td>36940.0</td>\n",
       "    </tr>\n",
       "    <tr>\n",
       "      <th>Electronics</th>\n",
       "      <td>-21905.0</td>\n",
       "    </tr>\n",
       "    <tr>\n",
       "      <th>Furniture</th>\n",
       "      <td>16530.0</td>\n",
       "    </tr>\n",
       "  </tbody>\n",
       "</table>\n",
       "</div>"
      ],
      "text/plain": [
       "                   0\n",
       "Category            \n",
       "Clothing     36940.0\n",
       "Electronics -21905.0\n",
       "Furniture    16530.0"
      ]
     },
     "execution_count": 40,
     "metadata": {},
     "output_type": "execute_result"
    }
   ],
   "source": [
    "# Electronics is in loss else two are in profit\n",
    "Profit_loss = sales_target-actual_sales\n",
    "pd.DataFrame(Profit_loss)"
   ]
  },
  {
   "cell_type": "markdown",
   "id": "5afb51d1",
   "metadata": {},
   "source": [
    "### Q.13 Total amount of revenue generated ?"
   ]
  },
  {
   "cell_type": "code",
   "execution_count": 41,
   "id": "1d267b98",
   "metadata": {},
   "outputs": [
    {
     "data": {
      "text/plain": [
       "404335.0"
      ]
     },
     "execution_count": 41,
     "metadata": {},
     "output_type": "execute_result"
    }
   ],
   "source": [
    "total_revenue = sales[\"Amount\"].sum()\n",
    "total_revenue "
   ]
  },
  {
   "cell_type": "markdown",
   "id": "f0cee622",
   "metadata": {},
   "source": [
    "### Q.14 Total amount of profit generated ?"
   ]
  },
  {
   "cell_type": "code",
   "execution_count": 42,
   "id": "7fae6719",
   "metadata": {},
   "outputs": [
    {
     "data": {
      "text/plain": [
       "41841.0"
      ]
     },
     "execution_count": 42,
     "metadata": {},
     "output_type": "execute_result"
    }
   ],
   "source": [
    "total_profit = sales[\"Profit\"].sum()\n",
    "total_profit"
   ]
  },
  {
   "cell_type": "markdown",
   "id": "c203a63c",
   "metadata": {},
   "source": [
    "### Q.15 What is the Net profit  ?"
   ]
  },
  {
   "cell_type": "code",
   "execution_count": 43,
   "id": "2528d39d",
   "metadata": {},
   "outputs": [
    {
     "data": {
      "text/plain": [
       "362494.0"
      ]
     },
     "execution_count": 43,
     "metadata": {},
     "output_type": "execute_result"
    }
   ],
   "source": [
    "net_profit = total_revenue-total_profit \n",
    "net_profit"
   ]
  },
  {
   "cell_type": "markdown",
   "id": "f423a3e7",
   "metadata": {},
   "source": [
    "## Finally,we are here with some results:\n",
    "\n",
    "### 1) According to analysis Madhya Pradesh is our best performing  state.\n",
    "\n",
    "### 2) Electronics category generated highest amount of sales & it is most proffitable too.\n",
    "\n",
    "### 3) Our Net Profit is 362494.\n",
    "\n",
    "### 4) January month has highest sales & it is most proffitable too.\n",
    "\n",
    "### 5) We could not reach at our targets in Electronics Category.\n",
    "\n",
    "\n"
   ]
  }
 ],
 "metadata": {
  "kernelspec": {
   "display_name": "Python 3 (ipykernel)",
   "language": "python",
   "name": "python3"
  },
  "language_info": {
   "codemirror_mode": {
    "name": "ipython",
    "version": 3
   },
   "file_extension": ".py",
   "mimetype": "text/x-python",
   "name": "python",
   "nbconvert_exporter": "python",
   "pygments_lexer": "ipython3",
   "version": "3.9.7"
  }
 },
 "nbformat": 4,
 "nbformat_minor": 5
}
